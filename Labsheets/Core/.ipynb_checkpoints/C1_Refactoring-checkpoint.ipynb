{
 "cells": [
  {
   "cell_type": "markdown",
   "metadata": {},
   "source": [
    "# Check Point 1: Refactoring Code\n",
    "\n",
    "Well done for reaching Check Point 1!\n",
    "\n",
    "At this point in your coursework you should feel quite confident that your robot can follow the line.  You  should also have your robot autonomously switching between a few different behaviours, e.g., initialising, finding a line, following a line, and stopping.  There are other challenges in the coursework we haven't started to solve yet.\n",
    "\n",
    "In any software development process, half of the challenge is understanding the task you are trying to solve.  As such, it is normal to write quite messy code as you try things out, explore the task and various techniques.  However, from this point onwards, your code is going to be getting a lot more complicated.\n",
    "\n",
    "In robotics that is an even more challenging problem because robots are complicated and prone to failure outside of the software (e.g., electronics, mechanics, environment, or even our human understanding of the task).  Therefore, it is **extremely good practice** to keep your code as neat and as well thought out as possible.  In robotics, your code is one of the few parts that you can have a lot of control over.  When we increase the complexity of our robot, environment, or task, we want to be confident our prior work is robust - we don't want any unnecessary errors to make our jobs as roboticists harder.\n",
    "\n",
    "The next few labsheets are going to investigate increasingly complex behaviours - your code is going to be interacting with the real world and producing unexpected results. Therefore, we need the code you have so far to be robust (e.g., you have tested it, and it works well), and clean (e.g., anyone could read it and help you search for and solve problems).  \n"
   ]
  },
  {
   "cell_type": "markdown",
   "metadata": {},
   "source": [
    "<img src=\"https://github.com/paulodowd/EMATM0054_20_21/blob/master/images/spaghetti.png?raw=true\" alt=\"Free for commercial use, image from: https://p1.pxfuel.com/preview/52/761/123/spaghetti-tomato-sauces-pasta-italian-noodles-sauce.jpg\"/>"
   ]
  },
  {
   "cell_type": "markdown",
   "metadata": {},
   "source": [
    "## Have a tidy!\n",
    "\n",
    "- Start by taking a back-up, or creating a new copy of your code.\n",
    "- Start deleting all the old code.  Don't worry, it still exists in your back-up!\n",
    "\n",
    "## Refactor\n",
    "\n",
    "- Look for **repetition** in your code.  Whenever the same lines of code are being used more than twice, you should consider moving them into a re-usable function routine with a good name.  \n",
    "    - A good example of this is setting the power to your motors.  It is much better to call a function which will consistently set the motors in the same way.\n",
    "    - This means, if there is a bug in this piece of code, it now only occurs within your function.  If you don't do this, you'd have to search for all the instances you've copied-and-paste the lines of code.\n",
    "\n",
    "\n",
    "- **Long Sequences**: If you code has a long sequence of operations, you should consider relocating these into a function.  This will leave only a (well named) function call where the sequence was.\n",
    "    - This will help with the readability of your code.  Debugging has a lot to do with understanding what is or isn't happening. \n",
    "    - It is also easier to comment out a function call - sometimes temporarily removing code can help to isolate a bug.\n",
    "\n",
    "    \n",
    "- **Magic Numbers**: if you see numbers throughout your code to make initialisation, selection or evaluation, you should move them to `#define` or `const` values at the top of your program.\n",
    "    - It is easy to forget that we set a magic number somewhere, and wonder why the robot is behaving so badly.\n",
    "    - It is much more convenient to adjust the performance of your solution by going straight to the top of your program.\n",
    "    \n",
    "    \n",
    "- **Blocking Code**: blocking code can be a disaster.  It is important that as much as possible, you understand and can predict the flow and timing (sequence) of your code.  e.g. You do not want your code to \"sometimes\" get stuck in a 500ms delay.\n",
    "    - Avoid using delay() at all costs.  You should be using millis() to sequence events (labsheet 2) in your code so that the microcontroller can process other tasks.\n",
    "    - Avoid using for() or while() loops as much as possible.  Time spent in an iterative-loop will stop your microcontroller from moving through the other tasks you had planned.  Instead, utilise the fact that the Arduino will always iterate through loop() automatically, and use this to periodically update or incrementally process your input/output or data.\n",
    "    - A big problem with Blocking Code comes when you remove it - blocking code may have been slowing your code down all along, and now it is gone, your code operates too quickly and changes the behaviour of your robot.\n",
    "    \n",
    "    \n",
    "- **Serial**: Sadly, without better tools, it is common to use Serial.print() to debug code on Arduino.  This is a problem because **Serial is Blocking code**!\n",
    "    - Use Serial sparingly, ideally only to debug.\n",
    "    - Once you're confidence something is working, remove or comment out the Serial operations.\n",
    "    - Be prepared that when you remove or comment out Serial, you code may operate with a different speed.  To help reduce this factor, use the millis() techniques to control the sequencing of your code as discussed in Labsheet 2.\n",
    "    - If you see a significant and definite malfunction when you are and are not using Serial, check Labsheet 0 for a work around.\n",
    "    - Consider using a `#define SERIAL_DEBUG 1` at the top of your code, and the if(){} blocks in your code which only activiate when SERIAL_DEBUG == 1.  This makes it easier to toggle the use of Serial in your code.\n",
    "    \n",
    "    \n",
    "- **Classes**: If you have a lot of functions to operate on a similar subject, it is worthwhile creating a class.  This is also true if you have a lot of variables relating to a subject.  \n",
    "    - A class can make your code more readable, which can help to then spot bugs.  \n",
    "    - A class will also locate your bugs within encapsulated code.  This means, for example, you can debug by commenting out your references to a class and see if a bug goes away.\n",
    "    \n",
    "    \n",
    "    \n",
    "- **Behaviours**: At this point in the coursework, you are beginning to define and test autonomous behaviours.  It is worthwhile creating (or maintaining) versions of your code which only operate a single behaviour.  \n",
    "    - These should be your `gold standard` for each behaviour, just in case something goes seriously wrong in the future.  \n",
    "    - By keeping a version of each of your behaviours separate, you can be confident of when or where a bug is occuring in an integrated version.\n"
   ]
  }
 ],
 "metadata": {
  "kernelspec": {
   "display_name": "Python 3",
   "language": "python",
   "name": "python3"
  },
  "language_info": {
   "codemirror_mode": {
    "name": "ipython",
    "version": 3
   },
   "file_extension": ".py",
   "mimetype": "text/x-python",
   "name": "python",
   "nbconvert_exporter": "python",
   "pygments_lexer": "ipython3",
   "version": "3.8.2"
  }
 },
 "nbformat": 4,
 "nbformat_minor": 4
}
