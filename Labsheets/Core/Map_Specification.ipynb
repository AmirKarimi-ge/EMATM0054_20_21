{
 "cells": [
  {
   "cell_type": "markdown",
   "metadata": {},
   "source": [
    "# Map Specification\n",
    "\n",
    "The following provides illustrated examples of how to construct your coursework map at home using the black vinyl tape (electrical tape) provided in your kit.  \n",
    "\n",
    "\n",
    "## Map Components\n",
    "\n",
    "To secure all possible points in Assessment 1, your map must have all of the following map components:\n",
    "\n",
    "<img src=\"https://github.com/paulodowd/EMATM0054_20_21/blob/master/images/map_components.png?raw=true\"/>\n",
    "<br>\n",
    "<img src=\"\n",
    "\n"
   ]
  }
 ],
 "metadata": {
  "kernelspec": {
   "display_name": "Python 3",
   "language": "python",
   "name": "python3"
  },
  "language_info": {
   "codemirror_mode": {
    "name": "ipython",
    "version": 3
   },
   "file_extension": ".py",
   "mimetype": "text/x-python",
   "name": "python",
   "nbconvert_exporter": "python",
   "pygments_lexer": "ipython3",
   "version": "3.8.2"
  }
 },
 "nbformat": 4,
 "nbformat_minor": 4
}
