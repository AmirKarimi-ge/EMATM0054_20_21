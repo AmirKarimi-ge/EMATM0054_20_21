{
 "cells": [
  {
   "cell_type": "markdown",
   "metadata": {},
   "source": [
    "# Check Point 2\n",
    "\n",
    "Congratulations on reaching the final checkpoint!\n",
    "\n",
    "At this stage in the labsheets you should be starting to feel accomplished, and collecting together a lot of functionality. Looking forwards, you should be well on your way to solving Assessment 1.\n",
    "\n",
    "At this point it is important to ensure you:\n",
    "- **take a break**.\n",
    "\n",
    "\n",
    "\n",
    "\n",
    "\n",
    "Develop and test functions for the following behaviours.\n",
    "\n",
    "Turn to a specified angle, and stop.\n",
    "Drive straight, along a specified angle of rotation (theta from kinematics).\n",
    "\n"
   ]
  }
 ],
 "metadata": {
  "kernelspec": {
   "display_name": "Python 3",
   "language": "python",
   "name": "python3"
  },
  "language_info": {
   "codemirror_mode": {
    "name": "ipython",
    "version": 3
   },
   "file_extension": ".py",
   "mimetype": "text/x-python",
   "name": "python",
   "nbconvert_exporter": "python",
   "pygments_lexer": "ipython3",
   "version": "3.8.2"
  }
 },
 "nbformat": 4,
 "nbformat_minor": 4
}
