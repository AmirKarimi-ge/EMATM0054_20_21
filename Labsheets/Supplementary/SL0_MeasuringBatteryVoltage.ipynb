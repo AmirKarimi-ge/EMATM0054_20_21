{
 "cells": [
  {
   "cell_type": "markdown",
   "metadata": {},
   "source": [
    "# Supplementary Labsheet 0: Measuring Battery Voltage\n",
    "\n",
    "This suppplementary labshoot investigates measuring the battery voltage of your Romi whilst it is operating.  This labsheet is quite straight-forward and will introduce you to reading analog voltages.  Measuing the battery voltage of the Romi might be useful to:\n",
    "- detect and alert you to a critically low battery (which would alter the performance of your robot)\n",
    "- to adjust system parameters depending on your measured battery voltage.\n",
    "- to develop autonomous optimisations of Romi behaviour (e.g. optimised usage of battery whilst moving).\n",
    "\n",
    "\n",
    "\n"
   ]
  },
  {
   "cell_type": "markdown",
   "metadata": {},
   "source": [
    "<br><br><br><br>"
   ]
  },
  {
   "cell_type": "markdown",
   "metadata": {},
   "source": [
    "# A Look at Schematics\n",
    "\n",
    "Pololu offer the full schematic for the Romi for free from their website, <a href=\"https://www.pololu.com/file/0J1258/romi-32u4-control-board-schematic-diagram.pdf\">here</a>.  We will look at the relevant aspects for measuring the battery voltage.\n",
    "\n",
    "\n",
    "A general description of the power sub-system for the Romi is provided in the Romi documentation, <a href=\"https://www.pololu.com/docs/0J69/3.5\">here</a>.  This description tells us:\n",
    "- **VBAT**: is a pin connected to the batteries, which may be between 7.2volts or 9volts, depending on the type of AA-cell batteries installed.\n",
    "- **VSW**: is the battery voltage (VBAT), after it has been through a power switching circuit (on/off) and a reverse-protection circuit (to attempt to prevent damage if the batteries are installed incorrectly).\n",
    "- That VSW can be monitored through the Arduino pin **A1**.  \n",
    "\n",
    "From the lectures, you should remember that an <a href=\"https://en.wikipedia.org/wiki/Analog-to-digital_converter\">Analog-to-Digital Converter (ADC)</a> makes a comparison between a voltage present at a pin and a voltage reference.  This then presents two interesting questions concerning measuring our Romi battery voltage:\n",
    "\n",
    "1. If the Romi will compare the battery voltage to a voltage reference, how can it compare a large voltage (7.2volts, or 9volts, from AA batteries) to the much smaller microcontroller voltage (5v, or often 3.3v)?\n",
    "\n",
    "\n",
    "2. If the Romi batteries can run out - therefore the system voltage will drop over time - how can the Romi make a comparison to a voltage reference on the same circuit?  (e.g., won't the reference change as the batteries change?)\n",
    "\n",
    "\n",
    "## 1) Measuring a larger voltage:\n",
    "\n",
    "\n",
    "If we look at the schematic (circuit diagram), we can find a drawing of how **VSW** is connected to **A1**:\n",
    "\n",
    "<img src=\"https://github.com/paulodowd/EMATM0054_20_21/blob/master/images/batt_pd.png?raw=true\"/>\n",
    "\n",
    "You may recognise the above configuration of resistors as a <a href=\"https://learn.sparkfun.com/tutorials/voltage-dividers/all\">potential divider</a>.  From this circuit diagram, we can read that the voltage present at VSW is divided by the 20k and 10k resistors, with A1 reading from the junction (labelled as **BATLEV**).  The choice of 20k and 10k resistors makes the potential divider quite convenient - it essentially divides the voltage at VSW into thirds, presenting 1/3 to A1.  This is a rudimentary way to bring a larger voltage down to be measured.  In this case, up to 15volts could be divided down to a safe value for measurement (one third of 15v is 5v).\n",
    "\n",
    "To understand why a third of VSW is presented at A1, we can look at the equation for a potential divider:\n",
    "\n",
    "<img src=\"https://cdn.sparkfun.com/assets/e/7/6/3/c/511968d9ce395f7c54000000.png\"/>\n",
    "\n",
    "If we substitute our circuit labels into the equation above, we achieve:\n",
    "\n",
    "$BATLEV = VSW \\times \\frac{R5}{R4+R5}$\n",
    "\n",
    "If we substitute our known values we achieve:\n",
    "\n",
    "$BATLEV = VSW \\times \\frac{R5}{R4+R5}$ \n",
    "\n",
    "$BATLEV = VSW \\times \\frac{10}{20+10}$ \n",
    "\n",
    "$BATLEV = VSW \\times 0.33$\n",
    "\n",
    "We are now left with the problem that VSW is not a constant (it is the battery voltage we wish to measure), and we are not sure how BATLEV is determined by the ADC relative to a reference voltage.\n",
    "\n",
    "## 2) Voltage Reference\n",
    "\n",
    "When working with microcontrollers it is possible to provide an external voltage as a reference for the ADC.  In our system, this wouldn't necessarily be useful, because we expect the battery voltage to be changing over time.  However, it is interesting to locate the analog reference (**AREF**) on the schematic:\n",
    "\n",
    "<img src=\"https://github.com/paulodowd/EMATM0054_20_21/blob/master/images/romi_aref.png?raw=true\"/>\n",
    "\n",
    "In the above schematic, we can see that AREF is connected through a capacitor to ground.  This tells us that the analog reference is not connected to an external reference by default.  This also tells us that is likely the AREF pin will be configured in software to work from the internal voltage reference source.  Therefore, we can expect AREF to be 5V for the Romi's microcontroller.\n",
    "\n",
    "On page 5 of the schematics, we can find the following two circuit blocks which perform power regulation and switching:\n",
    "\n",
    "\n",
    "\n"
   ]
  }
 ],
 "metadata": {
  "kernelspec": {
   "display_name": "Python 3",
   "language": "python",
   "name": "python3"
  },
  "language_info": {
   "codemirror_mode": {
    "name": "ipython",
    "version": 3
   },
   "file_extension": ".py",
   "mimetype": "text/x-python",
   "name": "python",
   "nbconvert_exporter": "python",
   "pygments_lexer": "ipython3",
   "version": "3.8.2"
  }
 },
 "nbformat": 4,
 "nbformat_minor": 4
}
