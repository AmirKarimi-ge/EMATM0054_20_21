{
 "cells": [
  {
   "cell_type": "markdown",
   "metadata": {},
   "source": [
    "# Supplementary Labsheet: Proximity Sensor irs09a\n",
    "\n",
    "This supplementary labsheet guides you through the process of getting your proximity sensor to work with your Romi.  This sensor is not required for Assessment 1, but it may be of interest for Assessment 2. \n",
    "\n",
    "\n",
    "<br><br><br>\n"
   ]
  },
  {
   "cell_type": "markdown",
   "metadata": {},
   "source": [
    "# About the Sensor: Pololu irs09a / VL6180X\n",
    "\n",
    "\n",
    "\n",
    "VL6180X Time-of-Flight Distance Sensor.\n",
    "\n",
    "\n",
    "https://www.pololu.com/file/0J962/AN4545.pdf\n",
    "\n"
   ]
  },
  {
   "cell_type": "markdown",
   "metadata": {},
   "source": [
    "# Connecting your Sensor to the Romi\n",
    "\n",
    "You should find in your kit a sensor which looks like the below.  You will notice that your sensor will only have 4 pins soldered, and you should connect them to your Romi as described:\n",
    "\n",
    "<table>\n",
    "    <tr><td><b>irs09a/VL6180X</b></td><td><b>Romi</b></td></tr>\n",
    "    <tr><td>Vin</td><td>5v</td></tr>\n",
    "    <tr><td>GND</td><td>GND</td></tr>\n",
    "    <tr><td>SDA</td><td>pin 2</td></tr>\n",
    "    <tr><td>SCL</td><td>pin 3</td></tr>\n",
    "</table>\n",
    "\n",
    "**Please triple-check your connections to avoid any damage to either the sensor or your Romi**\n",
    "\n",
    "<img src=\"https://a.pololu-files.com/picture/0J6786.1200.jpg?f612ccbb92134e27bb51405de67e2245\"/>"
   ]
  },
  {
   "cell_type": "markdown",
   "metadata": {},
   "source": [
    "# Installing a Software Library\n",
    "\n",
    "If you are using version 1.6.2 or later of the Arduino software (IDE), you can use the Library Manager to install this library:\n",
    "- In the Arduino IDE, open the \"Sketch\" menu, select \"Include Library\", then \"Manage Libraries...\".\n",
    "- Search for \"VL6180X\".\n",
    "- Click the VL6180X entry in the list.\n",
    "- Click \"Install\".\n",
    "\n",
    "\n",
    "If this does not work or is not possible, you can manually install the library:\n",
    "\n",
    "- Download the latest release archive from GitHub <a href=\"https://github.com/pololu/vl6180x-arduino\">(source)</a> <a href=\"https://github.com/pololu/vl6180x-arduino/archive/master.zip\">(zip file)</a> and decompress it.\n",
    "- Rename the folder \"vl6180x-arduino-master\" to \"VL6180X\".\n",
    "- Move the \"VL6180X\" folder into the \"libraries\" directory inside your Arduino sketchbook directory. You can view your sketchbook location by opening the \"File\" menu and selecting \"Preferences\" in the Arduino IDE. If there is not already a \"libraries\" folder in that location, you should make the folder yourself.\n",
    "- After installing the library, restart the Arduino IDE."
   ]
  }
 ],
 "metadata": {
  "kernelspec": {
   "display_name": "Python 3",
   "language": "python",
   "name": "python3"
  },
  "language_info": {
   "codemirror_mode": {
    "name": "ipython",
    "version": 3
   },
   "file_extension": ".py",
   "mimetype": "text/x-python",
   "name": "python",
   "nbconvert_exporter": "python",
   "pygments_lexer": "ipython3",
   "version": "3.8.2"
  }
 },
 "nbformat": 4,
 "nbformat_minor": 4
}
