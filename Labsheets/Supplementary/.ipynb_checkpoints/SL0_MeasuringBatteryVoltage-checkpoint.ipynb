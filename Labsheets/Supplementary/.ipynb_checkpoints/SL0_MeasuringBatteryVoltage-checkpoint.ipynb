{
 "cells": [
  {
   "cell_type": "markdown",
   "metadata": {},
   "source": [
    "# Supplementary Labsheet 0: Measuring Battery Voltage\n",
    "\n",
    "This suppplementary labshoot investigates measuring the battery voltage of your Romi whilst it is operating.  This labsheet is quite straight-forward and will introduce you to reading analog voltages.  Measuing the battery voltage of the Romi might be useful to:\n",
    "- detect and alert you to a critically low battery (which would alter the performance of your robot)\n",
    "- to adjust system parameters depending on your measured battery voltage.\n",
    "- to develop autonomous optimisations of Romi behaviour (e.g. optimised usage of battery whilst moving).\n",
    "\n",
    "\n",
    "\n"
   ]
  },
  {
   "cell_type": "markdown",
   "metadata": {},
   "source": []
  },
  {
   "cell_type": "markdown",
   "metadata": {},
   "source": [
    "# A Look at Schematics\n",
    "\n",
    "Pololu offer the full schematic for the Romi for free from their website, <a href=\"https://www.pololu.com/file/0J1258/romi-32u4-control-board-schematic-diagram.pdf\">here</a>.  We will look at the relevant aspects for measuring the battery voltage.\n",
    "\n",
    "\n",
    "A general description of the power sub-system for the Romi is provided in the Romi documentation, <a href=\"https://www.pololu.com/docs/0J69/3.5\">here</a>.  This description tells us:\n",
    "- **VBAT**: is a pin connected to the batteries, which may be between 7.2volts or 9volts, depending on the type of AA-cell batteries installed.\n",
    "- **VSW**: is the battery voltage, after it has been through a power switching circuit (on/off) and a reverse-protection circuit (to attempt to prevent damage if the batteries are installed incorrectly).\n",
    "- That VSW can be monitored through the Arduino pin **A1**.  \n",
    "\n",
    "If we look at the schematic (circuit diagram), we can find a drawing of how **VSW** is connected to **A1**:\n",
    "\n",
    "<img src=\"\"/>\n",
    "\n"
   ]
  }
 ],
 "metadata": {
  "kernelspec": {
   "display_name": "Python 3",
   "language": "python",
   "name": "python3"
  },
  "language_info": {
   "codemirror_mode": {
    "name": "ipython",
    "version": 3
   },
   "file_extension": ".py",
   "mimetype": "text/x-python",
   "name": "python",
   "nbconvert_exporter": "python",
   "pygments_lexer": "ipython3",
   "version": "3.8.2"
  }
 },
 "nbformat": 4,
 "nbformat_minor": 4
}
