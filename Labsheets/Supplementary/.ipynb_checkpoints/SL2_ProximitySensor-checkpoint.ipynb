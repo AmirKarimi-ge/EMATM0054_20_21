{
 "cells": [
  {
   "cell_type": "markdown",
   "metadata": {},
   "source": [
    "# Supplementary Labsheet: Proximity Sensor irs09a / VL6180X\n",
    "\n",
    "This supplementary labsheet guides you through the process of getting your proximity sensor to work with your Romi.  This sensor is not required for Assessment 1, but it may be of interest for Assessment 2. \n",
    "\n",
    "The VL6180X can be used to measure distance to an object.  The VL6180X can also be used to measure ambient light levels (light shining onto the sensor).\n",
    "<br><br><br>\n"
   ]
  },
  {
   "cell_type": "markdown",
   "metadata": {},
   "source": [
    "# About the Sensor: Pololu irs09a / VL6180X\n",
    "\n",
    "The **Pololu irs09a** is a `carrier board` for the **VL6180X** sensor.  This means that Pololu have produced a small circuit board which provides supporting electronics to the sensor.  If you were a manufacturer (such as, designing and making phones) you would buy just the VL6180X and integrate it into your own printed circuit board.  The irs09a carrier board is very convenient to experiment with.  You will find lots of sensors on carrier boards like this as you venture further into robotics.  \n",
    "\n",
    "\n",
    "\n",
    "All of the different names and name-codes can be a little confusing at first.  As a general rule, you want to find the **datasheet** or **application notes** for the sensor itself, in this case, the VL6180X.  The Pololu <a href=\"https://www.pololu.com/product/2489/resources\">product page</a> has conveniently collected a lot of this information together for you.  \n",
    "\n",
    "The application note for the VL6180X can be found <a href=\"https://www.pololu.com/file/0J962/AN4545.pdf\">here</a>, and it is worth having a quick look through to be familiar with the materials referenced in this labsheet.\n",
    "\n",
    "\n",
    "<img src=\"https://github.com/paulodowd/EMATM0054_20_21/blob/master/images/irs09a_sensingelement.png?raw=true\" width=\"50%\"/>\n",
    "\n",
    "You sensor should look like the above, although with 4 pins soldered to the board.  Importantly, the area marked **sensing element** above should not be obstructed, and you should avoid touching it because it will not function well if dirty.  This is an **active** optical sensor - so it needs to be able to transmit and receive light without obstruction.  \n",
    "\n",
    "<img src=\"https://github.com/paulodowd/EMATM0054_20_21/blob/master/images/irs09a_blockdiagram.png?raw=true\"/>\n",
    "\n",
    "As a matter of interest, the above block diagram shows what technology exists within the VL6180X.  Note that, this is not the green circuit board you can see, only within the black chip labelled \"sensing element\" in the prior picture.  It is interesting to note that sensor itself has microcontroller within it.  Once, the idea of distributed computing was novel and a research area - nowadays it is normal for microcontrollers to be everywhere, busy doing small independent jobs, and ready to be queried by another computer. \n",
    "\n",
    "Distributed computing means that all these various computers has led to the development of standard ways (protocols) to communicate (transfer data) to one another.  This sensor uses <a href=\"https://en.wikipedia.org/wiki/I%C2%B2C\">I2C</a> (spoken as, \"I squared C\", sometimes \"I two C\").  Because of legal trademarking issues, the Arduino implements the protocol as \"Two Wire Interface\" (TWI).  \n",
    "\n",
    "We should discuss the idea of protocols in a little more depth in a lecture.  However, it means that when we use this sensor, instead of taking an analog measurement of voltage, we request the sensor to send us a measurement as a digital transmission of a number.\n",
    "\n",
    "\n",
    "<img src=\"https://github.com/paulodowd/EMATM0054_20_21/blob/master/images/irs09a_rangingoutput.png?raw=true\"/>\n",
    "\n",
    "When we request the sensor to send a measurement of distance, it will respond similar to the graph above. The relationship follows a distance to an object along the x-axis, and the reported value on the y-axis.  Note that, for this sensor, there is a remarkable linearity (the relationship between distance and reading is a straight line, not curved).  We could infer, therefore, that the sensitivity or resolution of the sensor does not change with distance - this is very convenient.  \n",
    "\n",
    "**However, we should always be sceptical (have doubts) of datasheets and application notes.  Many of these graphs are produced under ideal circumstances.  Our robots are going to be out in the field, and are much more complicated systems.  As a part of this labsheet, you should test your sensor and verify the graphs.**\n",
    "\n",
    "<img src=\"https://github.com/paulodowd/EMATM0054_20_21/blob/master/images/irs09a_convergence.png?raw=true\"/>\n",
    "\n",
    "This second shows a more varied performance.  Here, the VL6180X takes different amounts of time to converge on the distance reading.  We can see that, when measuring the distance to an object with 80% surface reflectivity (good reflection), the sensor operates consistently quickly (approximately, within a ms).  However, as surface reflectance drops, the sensor takes longer to operation.  It is also worth noting the strange times reported at very small distance readings - what might cause this?\n",
    "\n",
    "Therefore, whilst this sensor has a very convenient linear relationship between distance and reading, the ability to use this sensor with a consistent sampling time is compromised.  So far, we've learnt all of this about the sensor from documentation before we have tried to use it.  \n"
   ]
  },
  {
   "cell_type": "markdown",
   "metadata": {},
   "source": [
    "<br><br><br><br>"
   ]
  },
  {
   "cell_type": "markdown",
   "metadata": {},
   "source": [
    "# Connecting your Sensor to the Romi\n",
    "\n",
    "You should find in your kit a sensor which looks like the below.  You will notice that your sensor will only have 4 pins soldered, and you should connect them to your Romi as described:\n",
    "\n",
    "<table>\n",
    "    <tr><td><b>irs09a/VL6180X</b></td><td><b>Romi</b></td></tr>\n",
    "    <tr><td>Vin</td><td>5v</td></tr>\n",
    "    <tr><td>GND</td><td>GND</td></tr>\n",
    "    <tr><td>SDA</td><td>pin 2</td></tr>\n",
    "    <tr><td>SCL</td><td>pin 3</td></tr>\n",
    "</table>\n",
    "\n",
    "**Please triple-check your connections to avoid any damage to either the sensor or your Romi**\n",
    "\n",
    "<img src=\"https://a.pololu-files.com/picture/0J6786.1200.jpg?f612ccbb92134e27bb51405de67e2245\" width=\"30%\"/>"
   ]
  },
  {
   "cell_type": "markdown",
   "metadata": {},
   "source": [
    "<br><br><br><br>"
   ]
  },
  {
   "cell_type": "markdown",
   "metadata": {},
   "source": [
    "# Installing the Software Library\n",
    "\n",
    "If you are using version 1.6.2 or later of the Arduino software (IDE), you can use the Library Manager to install this library:\n",
    "- In the Arduino IDE, open the \"Sketch\" menu, select \"Include Library\", then \"Manage Libraries...\".\n",
    "- Search for \"VL6180X\".\n",
    "- Click the VL6180X entry in the list.  **Be sure to select the library from Pololu.**\n",
    "- Click \"Install\".\n",
    "- You can check the installation was successful by looking for examples within File->Examples->VL6180X.  If they exist, installation is complete.\n",
    "\n",
    "<img src=\"https://github.com/paulodowd/EMATM0054_20_21/blob/master/images/irs09a_install.png?raw=true\"/>\n",
    "\n",
    "\n",
    "If this does not work or is not possible, you can manually install the library:\n",
    "\n",
    "- Download the latest release archive from GitHub <a href=\"https://github.com/pololu/vl6180x-arduino\">(source)</a> <a href=\"https://github.com/pololu/vl6180x-arduino/archive/master.zip\">(zip file)</a> and decompress it.\n",
    "- Rename the folder \"vl6180x-arduino-master\" to \"VL6180X\".\n",
    "- Move the \"VL6180X\" folder into the \"libraries\" directory inside your Arduino sketchbook directory. You can view your sketchbook location by opening the \"File\" menu and selecting \"Preferences\" in the Arduino IDE. If there is not already a \"libraries\" folder in that location, you should make the folder yourself.\n",
    "- After installing the library, restart the Arduino IDE."
   ]
  },
  {
   "cell_type": "markdown",
   "metadata": {},
   "source": [
    "<br><br><br><br>"
   ]
  },
  {
   "cell_type": "markdown",
   "metadata": {},
   "source": [
    "# Using an I2C sensor\n",
    "\n",
    "If you decide to use an I2C sensor in the future, it is best to look for related information from the product supplier or manufacturer.  In general, on Arduino we use a library called **Wire.h** to handle communication with the sensor (or other I2C device).\n",
    "\n",
    "In this labsheet we are also using the software library provided by Pololu, **VL6180X.h**.  This library contains important information such as the default protocol address to use to contact and communicate with the sensor.  In code, we include these two libraries on the following two lines:\n",
    "\n",
    "```C++\n",
    "#include <Wire.h>\n",
    "#include <VL6180X.h>\n",
    "```\n",
    "\n",
    "With the libraries included, we then create an `instance` of the **VL6180X class**, declared within the VL6180X.h library.  Within the examples we will use, the instance of this class is simply named (referred to) as `sensor`.  \n",
    "\n",
    "```C++\n",
    "VL6180X sensor;\n",
    "```\n",
    "\n",
    "Next, the standard `setup()` function is used to initialise and configure the sensor.  In different examples available, the sensor is setup in different ways.  The briefest setup is shown below:\n",
    "\n",
    "```C++\n",
    "void setup() {\n",
    "    \n",
    "      Serial.begin(9600);// initialise the serial port\n",
    "                         // to later send readings over usb\n",
    "  \n",
    "      Wire.begin();      // Initialise the I2C protocol\n",
    "\n",
    "      sensor.init();     // initialise the sensor library class.\n",
    "    \n",
    "    \n",
    "      sensor.configureDefault();  // the following configure the sensor\n",
    "      sensor.setScaling(SCALING); // which is achieved through the I2C\n",
    "      sensor.setTimeout(500);     // protocol. Therefore, it is necessary\n",
    "                                  // to call Wire.begin() first.\n",
    "}\n",
    "```\n",
    "\n",
    "Later in the examples, whilst there are many ways to make a reading, it can be as simple as:\n",
    "\n",
    "```C++\n",
    "sensor.readRangeSingleMillimeters()\n",
    "```\n",
    "\n",
    "For further information on what functions the library provides, it is best to refer to the <a href=\"https://github.com/pololu/vl6180x-arduino\">documentation and source code</a>.\n"
   ]
  },
  {
   "cell_type": "markdown",
   "metadata": {},
   "source": [
    "<br><br><br><br>"
   ]
  },
  {
   "cell_type": "markdown",
   "metadata": {},
   "source": [
    "# Exercise 1: Single-Shot Scans\n",
    "\n",
    "Open the example **RangeSingleShotScaling**, found in:\n",
    "- File->Examples->VL6180X->...\n",
    "\n",
    "Make sure you have connected your sensor as described earlier in the labsheet.  Read through the example code, and you should be able to immediately program your Romi.  If you open the Serial Monitor, you should be able to see the sensor reporting a distance measurement.  If you have any errors, it is most likely that your sensor is not connected properly.  If you still cannot get your sensor to work, you should contact a member of teaching staff.\n",
    "\n",
    "## Task 1:\n",
    "\n",
    "On Line 14 you should see the following code:\n",
    "\n",
    "```C++\n",
    "// To try different scaling factors, change the following define.\n",
    "// Valid scaling factors are 1, 2, or 3.\n",
    "#define SCALING 3\n",
    "\n",
    "VL6180X sensor;\n",
    "\n",
    "```\n",
    "\n",
    "Changing the scaling factor will allow your sensor to make further distance measurements but at the cost of resolution.  \n",
    "- Set up a ruler or measured increments on your table, and collect measurement data at regular distance intervals.\n",
    "    - you may wish to write code to collect a number of samples over a fixed time period, and then report to you the mean and variance of the set of samples.\n",
    "- Plot your data into a graph, emulating the graph for distance and reading from the datasheet (shown earlier).\n",
    "- Plot the mean of n samples, with the variance at each point.  \n",
    "\n",
    "## Task 2:\n",
    "\n",
    "From the graphs presented above, we also expect that the time taken for the sensor to take a measurement varies with respect to distance (and/or surface reflectivity).  \n",
    "- Implement a timestamp using millis() to capture how long a single scan takes (time elapsed)\n",
    "- Collect data using the same intervals of distance for task 1, and graph scan time with respect to distance.\n",
    "- Implement code to take a fixed number of samples, and then report back to you the average elapsed time and variance.  \n",
    "- Plot the mean of n samples, with the variance at each point. \n",
    "\n",
    "\n",
    "## Task 3:\n",
    "\n",
    "Now that you have produced some graphs for the response of your sensor, it is possible to make some well informed decisions for robot behaviour.  \n",
    "\n"
   ]
  }
 ],
 "metadata": {
  "kernelspec": {
   "display_name": "Python 3",
   "language": "python",
   "name": "python3"
  },
  "language_info": {
   "codemirror_mode": {
    "name": "ipython",
    "version": 3
   },
   "file_extension": ".py",
   "mimetype": "text/x-python",
   "name": "python",
   "nbconvert_exporter": "python",
   "pygments_lexer": "ipython3",
   "version": "3.8.2"
  }
 },
 "nbformat": 4,
 "nbformat_minor": 4
}
