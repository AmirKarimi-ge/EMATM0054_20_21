{
 "cells": [
  {
   "cell_type": "markdown",
   "metadata": {},
   "source": [
    "# Supplementary Labsheet: Proximity Sensor irs09a / VL6180X\n",
    "\n",
    "This supplementary labsheet guides you through the process of getting your proximity sensor to work with your Romi.  This sensor is not required for Assessment 1, but it may be of interest for Assessment 2. \n",
    "\n",
    "\n",
    "<br><br><br>\n"
   ]
  },
  {
   "cell_type": "markdown",
   "metadata": {},
   "source": [
    "# About the Sensor: Pololu irs09a / VL6180X\n",
    "\n",
    "The **Pololu irs09a** is a `carrier board` for the **VL6180X** sensor.  This means that Pololu have produced a small circuit board which provides supporting electronics to the sensor.  If you were a manufacturer (such as, designing and making phones) you would buy just the VL6180X and integrate it into your own printed circuit board.  The irs09a carrier board is very convenient to experiment with.  You will find lots of sensors on carrier boards like this as you venture further into robotics.  \n",
    "\n",
    "All of the different names and name-codes can be a little confusing at first.  As a general rule, you want to find the **datasheet** or **application notes** for the sensor itself, in this case, the VL6180X.  The Pololu <a href=\"https://www.pololu.com/product/2489/resources\">product page</a> has conveniently collected a lot of this information together for you.  \n",
    "\n",
    "The application note for the VL6180X can be found <a href=\"https://www.pololu.com/file/0J962/AN4545.pdf\">here</a>, and it is worth having a quick look through to be familiar with the materials referenced in this labsheet.\n",
    "\n",
    "\n",
    "<img src=\"https://github.com/paulodowd/EMATM0054_20_21/blob/master/images/irs09a_sensingelement.png?raw=true\" width=\"50%\"/>\n",
    "\n",
    "You sensor should look like the above, although with 4 pins soldered to the board.  Importantly, the area marked **sensing element** above should not be obstructed, and you should avoid touching it because it will not function well if dirty.  This is an **active** optical sensor - so it needs to be able to transmit and receive light without obstruction.  \n",
    "\n",
    "<img src=\"https://github.com/paulodowd/EMATM0054_20_21/blob/master/images/irs09a_blockdiagram.png?raw=true\"/>\n",
    "\n",
    "As a matter of interest, the above block diagram shows what technology exists within the VL6180X.  Note that, this is not the green circuit board you can see, only within the black chip labelled \"sensing element\" in the prior picture.  It is interesting to note that sensor itself has microcontroller within it.  Once, the idea of distributed computing was novel and a research area - nowadays it is normal for microcontrollers to be everywhere, busy doing small independent jobs, and ready to be queried by another computer. \n",
    "\n",
    "Distributed computing means that all these various computers has led to the development of standard ways (protocols) to communicate (transfer data) to one another.  This sensor uses <a href=\"https://en.wikipedia.org/wiki/I%C2%B2C\">I2C</a> (spoken as, \"I squared C\", sometimes \"I two C\").  Because of legal trademarking issues, the Arduino implements the protocol as \"Two Wire Interface\" (TWI).  \n",
    "\n",
    "We should discuss the idea of protocols in a little more depth in a lecture.  However, it means that when we use this sensor, instead of taking an analog measurement of voltage, we request the sensor to send us a measurement as a digital transmission of a number.\n",
    "\n",
    "\n",
    "<img src=\"https://github.com/paulodowd/EMATM0054_20_21/blob/master/images/irs09a_rangingoutput.png?raw=true\"/>\n",
    "\n",
    "When we request the sensor to send a measurement of distance, it will respond similar to the graph above. The relationship follows a distance to an object along the x-axis, and the reported value on the y-axis.  Note that, for this sensor, there is a remarkable linearity (the relationship between distance and reading is a straight line, not curved).  We could infer, therefore, that the sensitivity or resolution of the sensor does not change with distance - this is very convenient.  \n",
    "\n",
    "**However, we should always be sceptical (have doubts) of datasheets and application notes.  Many of these graphs are produced under ideal circumstances.  Our robots are going to be out in the field, and are much more complicated systems.  As a part of this labsheet, you should test your sensor and verify the graphs.**\n",
    "\n",
    "<img src=\"https://github.com/paulodowd/EMATM0054_20_21/blob/master/images/irs09a_convergence.png?raw=true\"/>\n",
    "\n",
    "This second shows a more varied performance.  Here, the VL6180X takes different amounts of time to converge on the distance reading.  We can see that, when measuring the distance to an object with 80% surface reflectivity (good reflection), the sensor operates consistently quickly (approximately, within a ms).  However, as surface reflectance drops, the sensor takes longer to operation.  It is also worth noting the strange times reported at very small distance readings - what might cause this?\n",
    "\n",
    "Therefore, whilst this sensor has a very convenient linear relationship between distance and reading, the ability to use this sensor with a consistent sampling time is compromised.  So far, we've learnt all of this about the sensor from documentation before we have tried to use it.  \n"
   ]
  },
  {
   "cell_type": "markdown",
   "metadata": {},
   "source": [
    "<br><br><br><br>"
   ]
  },
  {
   "cell_type": "markdown",
   "metadata": {},
   "source": [
    "# Connecting your Sensor to the Romi\n",
    "\n",
    "You should find in your kit a sensor which looks like the below.  You will notice that your sensor will only have 4 pins soldered, and you should connect them to your Romi as described:\n",
    "\n",
    "<table>\n",
    "    <tr><td><b>irs09a/VL6180X</b></td><td><b>Romi</b></td></tr>\n",
    "    <tr><td>Vin</td><td>5v</td></tr>\n",
    "    <tr><td>GND</td><td>GND</td></tr>\n",
    "    <tr><td>SDA</td><td>pin 2</td></tr>\n",
    "    <tr><td>SCL</td><td>pin 3</td></tr>\n",
    "</table>\n",
    "\n",
    "**Please triple-check your connections to avoid any damage to either the sensor or your Romi**\n",
    "\n",
    "<img src=\"https://a.pololu-files.com/picture/0J6786.1200.jpg?f612ccbb92134e27bb51405de67e2245\" width=\"30%\"/>"
   ]
  },
  {
   "cell_type": "markdown",
   "metadata": {},
   "source": [
    "<br><br><br><br>"
   ]
  },
  {
   "cell_type": "markdown",
   "metadata": {},
   "source": [
    "# Installing the Software Library\n",
    "\n",
    "If you are using version 1.6.2 or later of the Arduino software (IDE), you can use the Library Manager to install this library:\n",
    "- In the Arduino IDE, open the \"Sketch\" menu, select \"Include Library\", then \"Manage Libraries...\".\n",
    "- Search for \"VL6180X\".\n",
    "- Click the VL6180X entry in the list.  **Be sure to select the library from Pololu.**\n",
    "- Click \"Install\".\n",
    "\n",
    "\n",
    "If this does not work or is not possible, you can manually install the library:\n",
    "\n",
    "- Download the latest release archive from GitHub <a href=\"https://github.com/pololu/vl6180x-arduino\">(source)</a> <a href=\"https://github.com/pololu/vl6180x-arduino/archive/master.zip\">(zip file)</a> and decompress it.\n",
    "- Rename the folder \"vl6180x-arduino-master\" to \"VL6180X\".\n",
    "- Move the \"VL6180X\" folder into the \"libraries\" directory inside your Arduino sketchbook directory. You can view your sketchbook location by opening the \"File\" menu and selecting \"Preferences\" in the Arduino IDE. If there is not already a \"libraries\" folder in that location, you should make the folder yourself.\n",
    "- After installing the library, restart the Arduino IDE."
   ]
  }
 ],
 "metadata": {
  "kernelspec": {
   "display_name": "Python 3",
   "language": "python",
   "name": "python3"
  },
  "language_info": {
   "codemirror_mode": {
    "name": "ipython",
    "version": 3
   },
   "file_extension": ".py",
   "mimetype": "text/x-python",
   "name": "python",
   "nbconvert_exporter": "python",
   "pygments_lexer": "ipython3",
   "version": "3.8.2"
  }
 },
 "nbformat": 4,
 "nbformat_minor": 4
}
